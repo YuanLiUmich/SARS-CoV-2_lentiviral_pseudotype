{
 "cells": [
  {
   "cell_type": "code",
   "execution_count": 1,
   "metadata": {},
   "outputs": [],
   "source": [
    "import Bio.SeqIO\n",
    "from Bio.SeqFeature import SeqFeature, FeatureLocation\n",
    "import dna_features_viewer\n",
    "import matplotlib.pyplot as plt"
   ]
  },
  {
   "cell_type": "code",
   "execution_count": 2,
   "metadata": {},
   "outputs": [
    {
     "data": {
      "text/plain": [
       "[SeqRecord(seq=Seq('MFVFLVLLPLVSSQCVNLTTRTQLPPAYTNSFTRGVYYPDKVFRSSVLHSTQDL...HYT', SingleLetterAlphabet()), id='Spike', name='Spike', description='Spike', dbxrefs=[]),\n",
       " SeqRecord(seq=Seq('MFVFLVLLPLVSSQCVNLTTRTQLPPAYTNSFTRGVYYPDKVFRSSVLHSTQDL...AYT', SingleLetterAlphabet()), id='Spike-ALAYT', name='Spike-ALAYT', description='Spike-ALAYT', dbxrefs=[]),\n",
       " SeqRecord(seq=Seq('MFVFLVLLPLVSSQCVNLTTRTQLPPAYTNSFTRGVYYPDKVFRSSVLHSTQDL...ICI', SingleLetterAlphabet()), id='Spike-HAtail', name='Spike-HAtail', description='Spike-HAtail', dbxrefs=[])]"
      ]
     },
     "execution_count": 2,
     "metadata": {},
     "output_type": "execute_result"
    }
   ],
   "source": [
    "seqs = list(Bio.SeqIO.parse('Spike_prots.fasta', 'fasta'))\n",
    "seqs"
   ]
  },
  {
   "cell_type": "markdown",
   "metadata": {},
   "source": [
    "Code to translate to `dna_features_viewer` images:"
   ]
  },
  {
   "cell_type": "code",
   "execution_count": 3,
   "metadata": {},
   "outputs": [],
   "source": [
    "SPIKE_FEATURE_COLOR_MAP = {\n",
    "        'signal peptide': 'lightsteelblue',\n",
    "        'S1': 'darkblue',\n",
    "        'S2': 'cornflowerblue',\n",
    "        'cytoplasmic tail': 'cyan',\n",
    "        }\n",
    "\"\"\"dict: Maps Spike features to matplotlib color names.\"\"\"\n",
    "\n",
    "\n",
    "class SpikeTranslator(dna_features_viewer.BiopythonTranslator):\n",
    "    \"\"\"Translat BioPython SeqRecord to dna_features_viewer graphic record.\n",
    "    \n",
    "    Parameters\n",
    "    -----------\n",
    "    feature_color_map : dict\n",
    "        Maps features to color schemes.\n",
    "    missing_color : str or None\n",
    "        What if a feature does not have color specified?. If `None` raise\n",
    "        error, if str make that color.\n",
    "    \n",
    "    \"\"\"\n",
    "    def __init__(self, feature_color_map, missing_color):\n",
    "        self.feature_color_map = feature_color_map.copy()\n",
    "        self.missing_color = missing_color\n",
    "        super().__init__()\n",
    "        \n",
    "    def compute_feature_color(self, feature):\n",
    "        \"\"\"Get feature color based on its type.\"\"\"\n",
    "        if feature.type in self.feature_color_map:\n",
    "            return self.feature_color_map[feature.type]\n",
    "        elif self.missing_color is None:\n",
    "            raise ValueError(f\"no color for feature type {feature.type}\")\n",
    "        else:\n",
    "            return self.missing_color"
   ]
  },
  {
   "cell_type": "markdown",
   "metadata": {},
   "source": [
    "Below Most features are annotated using the definitions in [Figure S5 of Wrapp et al (2020)](https://science.sciencemag.org/content/sci/suppl/2020/02/18/science.abb2507.DC1/abb2507-Wrapp-SM.pdf).\n",
    "The cytoplasmic tail is annotated using the definition for SARS-CoV in [Figure 1 of Sadasivan et al (2017)](https://www.ias.ac.in/article/fulltext/jbsc/042/02/0231-0244)."
   ]
  },
  {
   "cell_type": "code",
   "execution_count": 4,
   "metadata": {},
   "outputs": [
    {
     "data": {
      "image/png": "[encoded data removed]",
      "text/plain": [
       "<Figure size 468x475.2 with 3 Axes>"
      ]
     },
     "metadata": {
      "needs_background": "light"
     },
     "output_type": "display_data"
    }
   ],
   "source": [
    "fig, axes = plt.subplots(len(seqs),\n",
    "                         1,\n",
    "                         figsize=(6.5, 2.2 * len(seqs)),\n",
    "                         sharex=True,\n",
    "                         gridspec_kw={'hspace': 0.5},)\n",
    "\n",
    "wt_spike_seq = [str(seq.seq) for seq in seqs if seq.name == 'Spike']\n",
    "assert len(wt_spike_seq) == 1\n",
    "wt_spike_seq = wt_spike_seq[0]\n",
    "\n",
    "for seq, ax in zip(seqs, axes):\n",
    "    seq.features = [\n",
    "        SeqFeature(type='signal peptide',\n",
    "                   location=FeatureLocation(0, 15),\n",
    "                   strand=0),\n",
    "        SeqFeature(type='S1',\n",
    "                   location=FeatureLocation(15, 681),\n",
    "                   strand=0),\n",
    "        SeqFeature(type='S2',\n",
    "                   location=FeatureLocation(681, 1239),\n",
    "                   strand=0),\n",
    "        ]\n",
    "    \n",
    "    if seq.name in {'Spike', 'Spike-ALAYT'}:\n",
    "        seq.features.append(\n",
    "                SeqFeature(type='cytoplasmic tail',\n",
    "                   location=FeatureLocation(1239, len(seq)),\n",
    "                   strand=0)\n",
    "                )\n",
    "        if seq.name == 'Spike-ALAYT':\n",
    "            spike_seq = str(seq.seq)\n",
    "            assert len(spike_seq) == len(wt_spike_seq)\n",
    "            seq.features += [\n",
    "                SeqFeature(type=f\"{wt}{i + 1}{mut}\",\n",
    "                            location=FeatureLocation(i, i + 1),\n",
    "                            strand=0)\n",
    "                for i, (wt, mut) in enumerate(zip(wt_spike_seq, spike_seq))\n",
    "                if wt != mut\n",
    "                ]\n",
    "    elif seq.name == 'Spike-HAtail':\n",
    "        seq.features.append(\n",
    "                SeqFeature(type='HA cytoplasmic tail',\n",
    "                   location=FeatureLocation(1239, len(seq)),\n",
    "                   strand=0)\n",
    "                )\n",
    "    else:\n",
    "        raise ValueError(f\"invalid name {seq.name}\")\n",
    "    \n",
    "    graphic_record = SpikeTranslator(feature_color_map=SPIKE_FEATURE_COLOR_MAP,\n",
    "                                     missing_color='orange',\n",
    "                                     ).translate_record(seq)\n",
    "    ax, _ = graphic_record.plot(ax=ax)\n",
    "    xmax = max(len(seq) for seq in seqs)\n",
    "    ax.set_xlim(0, xmax)\n",
    "    if seq.name != seqs[-1].name:\n",
    "        ax.tick_params(bottom=False)\n",
    "    else:\n",
    "        ax.set_xticks([i for i in range(0, xmax, 200)])\n",
    "        ax.set_xticklabels([int(i + 1) for i in ax.get_xticks()])\n",
    "        ax.set_xlabel('protein site', size=12)\n",
    "    ax.set_title(seq.name, fontsize=14)\n",
    "\n",
    "plt.savefig('Spike_schematics.pdf', bbox_inches='tight')"
   ]
  },
  {
   "cell_type": "code",
   "execution_count": null,
   "metadata": {},
   "outputs": [],
   "source": []
  }
 ],
 "metadata": {
  "kernelspec": {
   "display_name": "Python 3",
   "language": "python",
   "name": "python3"
  },
  "language_info": {
   "codemirror_mode": {
    "name": "ipython",
    "version": 3
   },
   "file_extension": ".py",
   "mimetype": "text/x-python",
   "name": "python",
   "nbconvert_exporter": "python",
   "pygments_lexer": "ipython3",
   "version": "3.6.7"
  }
 },
 "nbformat": 4,
 "nbformat_minor": 4
}
